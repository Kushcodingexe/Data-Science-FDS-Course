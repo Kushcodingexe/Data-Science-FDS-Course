{
  "nbformat": 4,
  "nbformat_minor": 0,
  "metadata": {
    "colab": {
      "provenance": [],
      "authorship_tag": "ABX9TyOm7Dk6CjkFmqUvq72fAa0c",
      "include_colab_link": true
    },
    "kernelspec": {
      "name": "python3",
      "display_name": "Python 3"
    },
    "language_info": {
      "name": "python"
    }
  },
  "cells": [
    {
      "cell_type": "markdown",
      "metadata": {
        "id": "view-in-github",
        "colab_type": "text"
      },
      "source": [
        "<a href=\"https://colab.research.google.com/github/Kushcodingexe/Data-Science-FDS-Course/blob/main/Kush_Sahni_2210110371_FDS_LAB_2.ipynb\" target=\"_parent\"><img src=\"https://colab.research.google.com/assets/colab-badge.svg\" alt=\"Open In Colab\"/></a>"
      ]
    },
    {
      "cell_type": "code",
      "source": [
        "# Lodaing Dataset\n",
        "#!/usr/bin/env python3\n",
        "\n",
        "import sys\n",
        "from collections import OrderedDict\n",
        "\n",
        "import numpy as np\n",
        "import pandas as pd\n",
        "\n",
        "CSV_PATH = \"survey_results_public.csv\"\n",
        "\n",
        "# Columns requested by the assignment (target names we want in final df)\n",
        "REQUIRED_COLS = [\n",
        "    \"Respondent\", \"MainBranch\", \"Hobbyist\", \"Age\", \"Age1stCode\", \"CompFreq\",\n",
        "    \"CompTotal\", \"ConvertedComp\", \"Country\", \"CurrencySymbol\", \"DevType\",\n",
        "    \"Employment\", \"Gender\", \"NEWDevOps\", \"NEWOtherComms\", \"OpSys\", \"SOAccount\",\n",
        "    \"SOComm\", \"SOVisitFreq\", \"SurveyEase\", \"UndergradMajor\", \"WorkWeekHrs\",\n",
        "    \"YearsCode\", \"YearsCodePro\"\n",
        "]\n",
        "\n",
        "\n",
        "def safe_pick(df_cols, candidates):\n",
        "    \"\"\"\n",
        "    Return first candidate that exists in df_cols, else None.\n",
        "    candidates: list of strings (possible column names)\n",
        "    \"\"\"\n",
        "    for c in candidates:\n",
        "        if c in df_cols:\n",
        "            return c\n",
        "    return None\n",
        "\n",
        "\n",
        "def convert_years_column(series: pd.Series) -> pd.Series:\n",
        "    \"\"\"\n",
        "    Convert textual 'years' column entries to numeric:\n",
        "    - 'Less than 1' -> 0\n",
        "    - 'More than 50' -> 51\n",
        "    - numeric strings -> numeric\n",
        "    Returns float Series (NaN where cannot convert).\n",
        "    \"\"\"\n",
        "    s = series.astype(str).str.strip().replace({\n",
        "        \"Less than 1\": \"0\",\n",
        "        \"More than 50\": \"51\",\n",
        "        \"nan\": np.nan,\n",
        "        \"None\": np.nan\n",
        "    })\n",
        "    return pd.to_numeric(s, errors=\"coerce\")\n",
        "\n",
        "\n",
        "# --------------------------\n",
        "# LOAD RAW CSV (run as a cell)\n",
        "# --------------------------\n",
        "try:\n",
        "    df_raw = pd.read_csv(CSV_PATH, low_memory=False)\n",
        "    print(f\"Loaded CSV at '{CSV_PATH}' with shape {df_raw.shape}\")\n",
        "except FileNotFoundError:\n",
        "    raise FileNotFoundError(f\"CSV not found at {CSV_PATH}. Please place the original 2020 CSV there.\")\n",
        "\n",
        "\n",
        "# --------------------------\n",
        "# Build fallback map + actual column mapping (run as a cell)\n",
        "# --------------------------\n",
        "cols = set(df_raw.columns.tolist())\n",
        "fallback_map = {\n",
        "    \"Respondent\": [\"Respondent\", \"ResponseId\", \"ResponseID\", \"RespondentId\"],\n",
        "    \"CurrencySymbol\": [\"CurrencySymbol\", \"Currency\", \"CurrencyCode\"],\n",
        "    \"ConvertedComp\": [\"ConvertedComp\", \"ConvertedCompYearly\", \"ConvertedCompPerYear\", \"ConvertedCompAnnual\"],\n",
        "    \"CompTotal\": [\"CompTotal\", \"CompTotalAnnual\", \"CompensationTotal\"],\n",
        "    \"Hobbyist\": [\"Hobbyist\", \"Hobby\"],\n",
        "    \"NEWDevOps\": [\"NEWDevOps\", \"DevOpsPresence\"],\n",
        "    \"NEWOtherComms\": [\"NEWOtherComms\", \"OtherComms\"],\n",
        "    \"OpSys\": [\"OpSys\", \"OpSysPersonal use\", \"OpSysProfessional use\"],\n",
        "    \"UndergradMajor\": [\"UndergradMajor\", \"UndergradMajor(s)\", \"EdLevel\", \"FormalEducation\"],\n",
        "    \"WorkWeekHrs\": [\"WorkWeekHrs\", \"WorkWeek\", \"WorkWeekHours\"],\n",
        "    \"YearsCodePro\": [\"YearsCodePro\", \"YearsCodeProfessional\"],\n",
        "    \"Age1stCode\": [\"Age1stCode\", \"Age1stCod\", \"Age1st\"],\n",
        "    \"Gender\": [\"Gender\", \"GenderSelect\", \"Sex\"]\n",
        "}\n",
        "\n",
        "actual_map = {}\n",
        "for req in REQUIRED_COLS:\n",
        "    candidates = [req]\n",
        "    if req in fallback_map:\n",
        "        candidates.extend(fallback_map[req])\n",
        "    found = safe_pick(cols, candidates)\n",
        "    actual_map[req] = found  # may be None\n",
        "\n",
        "print(\"Column mapping (requested -> actual column used or placeholder):\")\n",
        "for req in REQUIRED_COLS:\n",
        "    print(f\"  {req} -> {actual_map[req]!r}\")\n",
        "print()\n",
        "\n",
        "\n",
        "# --------------------------\n",
        "# Build working dataframe (run as a cell)\n",
        "# --------------------------\n",
        "df = pd.DataFrame(index=df_raw.index)\n",
        "for req in REQUIRED_COLS:\n",
        "    actual = actual_map.get(req)\n",
        "    if actual is not None:\n",
        "        df[req] = df_raw[actual]\n",
        "    else:\n",
        "        df[req] = pd.NA  # placeholder\n",
        "\n"
      ],
      "metadata": {
        "colab": {
          "base_uri": "https://localhost:8080/"
        },
        "id": "3g0arI0RJqoc",
        "outputId": "119b8360-0d4a-4bea-896a-4272a26e9ebf"
      },
      "execution_count": null,
      "outputs": [
        {
          "output_type": "stream",
          "name": "stdout",
          "text": [
            "Loaded CSV at 'survey_results_public.csv' with shape (83439, 48)\n",
            "Column mapping (requested -> actual column used or placeholder):\n",
            "  Respondent -> 'ResponseId'\n",
            "  MainBranch -> 'MainBranch'\n",
            "  Hobbyist -> None\n",
            "  Age -> 'Age'\n",
            "  Age1stCode -> 'Age1stCode'\n",
            "  CompFreq -> 'CompFreq'\n",
            "  CompTotal -> 'CompTotal'\n",
            "  ConvertedComp -> 'ConvertedCompYearly'\n",
            "  Country -> 'Country'\n",
            "  CurrencySymbol -> 'Currency'\n",
            "  DevType -> 'DevType'\n",
            "  Employment -> 'Employment'\n",
            "  Gender -> 'Gender'\n",
            "  NEWDevOps -> None\n",
            "  NEWOtherComms -> 'NEWOtherComms'\n",
            "  OpSys -> 'OpSys'\n",
            "  SOAccount -> 'SOAccount'\n",
            "  SOComm -> 'SOComm'\n",
            "  SOVisitFreq -> 'SOVisitFreq'\n",
            "  SurveyEase -> 'SurveyEase'\n",
            "  UndergradMajor -> 'EdLevel'\n",
            "  WorkWeekHrs -> None\n",
            "  YearsCode -> 'YearsCode'\n",
            "  YearsCodePro -> 'YearsCodePro'\n",
            "\n"
          ]
        }
      ]
    },
    {
      "cell_type": "code",
      "source": [
        "\n",
        "# --------------------------\n",
        "# Q1) Rename headers (run as a cell)\n",
        "# --------------------------\n",
        "df.rename(columns={\"NEWDevOps\": \"DevOpsPresence\", \"NEWOtherComms\": \"OtherComms\", \"OpSys\": \"OS\"}, inplace=True)\n",
        "print(\"Q1) Renamed columns where present: NEWDevOps->DevOpsPresence, NEWOtherComms->OtherComms, OpSys->OS\\n\")\n",
        "\n"
      ],
      "metadata": {
        "colab": {
          "base_uri": "https://localhost:8080/"
        },
        "id": "TyfT0B_zKBHX",
        "outputId": "abe285a6-7f31-4156-8c4f-ef4f8d9b37c8"
      },
      "execution_count": null,
      "outputs": [
        {
          "output_type": "stream",
          "name": "stdout",
          "text": [
            "Q1) Renamed columns where present: NEWDevOps->DevOpsPresence, NEWOtherComms->OtherComms, OpSys->OS\n",
            "\n"
          ]
        }
      ]
    },
    {
      "cell_type": "code",
      "source": [
        "\n",
        "# --------------------------\n",
        "# Q2) Display first and last 15 rows (run as a cell)\n",
        "# --------------------------\n",
        "print(\"Q2) First 15 rows:\")\n",
        "print(df.head(15).to_string(index=False))\n",
        "print(\"\\nQ2) Last 15 rows:\")\n",
        "print(df.tail(15).to_string(index=False))\n",
        "print()\n",
        "\n"
      ],
      "metadata": {
        "colab": {
          "base_uri": "https://localhost:8080/"
        },
        "id": "hAxyeR3MKCz4",
        "outputId": "b834c89c-93c1-4c04-8092-7ed91f38b252"
      },
      "execution_count": null,
      "outputs": [
        {
          "output_type": "stream",
          "name": "stdout",
          "text": [
            "Q2) First 15 rows:\n",
            " Respondent                                                                    MainBranch Hobbyist               Age    Age1stCode CompFreq  CompTotal  ConvertedComp                                              Country      CurrencySymbol                                                                                                    DevType                                           Employment            Gender DevOpsPresence OtherComms          OS SOAccount          SOComm            SOVisitFreq                 SurveyEase                                                                     UndergradMajor WorkWeekHrs YearsCode YearsCodePro\n",
            "          1                                                I am a developer by profession     <NA>   25-34 years old 18 - 24 years  Monthly     4800.0        62268.0                                             Slovakia   EUR European Euro                                                                                          Developer, mobile Independent contractor, freelancer, or self-employed               Man           <NA>         No       MacOS       Yes Yes, definitely Multiple times per day                       Easy Secondary school (e.g. American high school, German Realschule or Gymnasium, etc.)        <NA>       NaN          NaN\n",
            "          2                                        I am a student who is learning to code     <NA>   18-24 years old 11 - 17 years      NaN        NaN            NaN                                          Netherlands                 NaN                                                                                                        NaN                                   Student, full-time               Man           <NA>         No     Windows       Yes Yes, definitely  Daily or almost daily                       Easy                                       Bachelor’s degree (B.A., B.S., B.Eng., etc.)        <NA>         7          NaN\n",
            "          3 I am not primarily a developer, but I write code sometimes as part of my work     <NA>   18-24 years old 11 - 17 years      NaN        NaN            NaN                                   Russian Federation                 NaN                                                                                                        NaN                                   Student, full-time               Man           <NA>        Yes       MacOS       Yes Yes, definitely Multiple times per day                       Easy                                       Bachelor’s degree (B.A., B.S., B.Eng., etc.)        <NA>       NaN          NaN\n",
            "          4                                                I am a developer by profession     <NA>   35-44 years old 11 - 17 years  Monthly        NaN            NaN                                              Austria   EUR European Euro                                                                                       Developer, front-end                                   Employed full-time               Man           <NA>         No     Windows       Yes         Neutral  Daily or almost daily Neither easy nor difficult                                    Master’s degree (M.A., M.S., M.Eng., MBA, etc.)        <NA>       NaN          NaN\n",
            "          5                                                I am a developer by profession     <NA>   25-34 years old  5 - 10 years      NaN        NaN            NaN United Kingdom of Great Britain and Northern Ireland GBP\\tPound sterling Developer, desktop or enterprise applications;Developer, full-stack;Engineer, data;Other (please specify): Independent contractor, freelancer, or self-employed               Man           <NA>         No Linux-based       Yes   Yes, somewhat  Daily or almost daily                       Easy                                    Master’s degree (M.A., M.S., M.Eng., MBA, etc.)        <NA>        17           10\n",
            "          6                                        I am a student who is learning to code     <NA>   18-24 years old 11 - 17 years      NaN        NaN            NaN                             United States of America                 NaN                                                                                                        NaN                                   Student, part-time Prefer not to say           <NA>         No     Windows       Yes   Yes, somewhat Multiple times per day Neither easy nor difficult                                       Bachelor’s degree (B.A., B.S., B.Eng., etc.)        <NA>       NaN          NaN\n",
            "          7                                                   I code primarily as a hobby     <NA> Prefer not to say 11 - 17 years      NaN        NaN            NaN                             United States of America                 NaN                                                                                                        NaN                                  I prefer not to say Prefer not to say           <NA>         No     Windows       Yes   Yes, somewhat  Daily or almost daily Neither easy nor difficult Secondary school (e.g. American high school, German Realschule or Gymnasium, etc.)        <NA>         3          NaN\n",
            "          8                                        I am a student who is learning to code     <NA>   18-24 years old 11 - 17 years      NaN        NaN            NaN                                             Malaysia                 NaN                                                                                                        NaN                                   Student, full-time             Woman           <NA>        Yes Linux-based       Yes  No, not at all Multiple times per day                       Easy                                       Bachelor’s degree (B.A., B.S., B.Eng., etc.)        <NA>         4          NaN\n",
            "          9                                                I am a developer by profession     <NA>   25-34 years old 18 - 24 years  Monthly        NaN            NaN                                                India   INR\\tIndian rupee                                                                                       Developer, front-end                                   Employed part-time               Man           <NA>         No     Windows       Yes Yes, definitely   A few times per week                       Easy                                       Bachelor’s degree (B.A., B.S., B.Eng., etc.)        <NA>         6            4\n",
            "         10                                                I am a developer by profession     <NA>   25-34 years old 11 - 17 years  Monthly    42000.0        51552.0                                               Sweden  SEK\\tSwedish krona                                                              Data scientist or machine learning specialist                                   Employed full-time               Man           <NA>         No Linux-based       Yes   Yes, somewhat Multiple times per day Neither easy nor difficult                                    Master’s degree (M.A., M.S., M.Eng., MBA, etc.)        <NA>         7            4\n",
            "         11                                                I am a developer by profession     <NA>   25-34 years old 11 - 17 years      NaN        NaN            NaN United Kingdom of Great Britain and Northern Ireland GBP\\tPound sterling                                                                                        Developer, back-end                                   Employed full-time               Man           <NA>         No     Windows       Yes Yes, definitely  Daily or almost daily                       Easy                                       Bachelor’s degree (B.A., B.S., B.Eng., etc.)        <NA>        16           10\n",
            "         12                                                I am a developer by profession     <NA>   25-34 years old 11 - 17 years   Yearly    43000.0        46482.0                                                Spain   EUR European Euro                                                                                        Developer, back-end                                   Employed full-time               Man           <NA>        Yes Linux-based       Yes   Yes, somewhat  Daily or almost daily                       Easy                                       Bachelor’s degree (B.A., B.S., B.Eng., etc.)        <NA>        12            5\n",
            "         13                                                I am a developer by profession     <NA>   25-34 years old 11 - 17 years   Yearly    71500.0        77290.0                                              Germany   EUR European Euro                                          Developer, desktop or enterprise applications;Developer, back-end                                   Employed full-time               Man           <NA>         No Linux-based       Yes Yes, definitely Multiple times per day                       Easy                                    Master’s degree (M.A., M.S., M.Eng., MBA, etc.)        <NA>        15            6\n",
            "         14                                        I am a student who is learning to code     <NA> Prefer not to say  5 - 10 years      NaN        NaN            NaN                                                 Peru                 NaN                                                              Data scientist or machine learning specialist                                   Employed full-time Prefer not to say           <NA>         No       MacOS       Yes         Neutral  Daily or almost daily Neither easy nor difficult                                    Master’s degree (M.A., M.S., M.Eng., MBA, etc.)        <NA>        10          NaN\n",
            "         15                      I used to be a developer by profession, but no longer am     <NA>   45-54 years old 11 - 17 years      NaN        NaN            NaN United Kingdom of Great Britain and Northern Ireland                 NaN                                                                                                        NaN                   Not employed, but looking for work               Man           <NA>         No Linux-based       Yes Yes, definitely Multiple times per day Neither easy nor difficult                                       Bachelor’s degree (B.A., B.S., B.Eng., etc.)        <NA>        40          NaN\n",
            "\n",
            "Q2) Last 15 rows:\n",
            " Respondent                     MainBranch Hobbyist             Age    Age1stCode CompFreq  CompTotal  ConvertedComp                  Country              CurrencySymbol                                                                                                                                               DevType                                           Employment                     Gender DevOpsPresence OtherComms          OS               SOAccount          SOComm                     SOVisitFreq                 SurveyEase                                                                     UndergradMajor WorkWeekHrs YearsCode     YearsCodePro\n",
            "      83425 I am a developer by profession     <NA> 25-34 years old 11 - 17 years   Yearly   120000.0       129718.0                  Germany           EUR European Euro                                                                                     Developer, full-stack;Other (please specify):;Developer, back-end                                   Employed full-time                        Man           <NA>         No       MacOS                     Yes  No, not really            A few times per week                       Easy                                       Bachelor’s degree (B.A., B.S., B.Eng., etc.)        <NA>        17               12\n",
            "      83426 I am a developer by profession     <NA> 18-24 years old 11 - 17 years  Monthly     1500.0        19452.0                  Finland           EUR European Euro                                                                                                                                 Developer, full-stack                                   Employed full-time                        Man           <NA>         No     Windows Not sure/can't remember  No, not really          Multiple times per day                       Easy Secondary school (e.g. American high school, German Realschule or Gymnasium, etc.)        <NA>         5                3\n",
            "      83427 I am a developer by profession     <NA> 18-24 years old 11 - 17 years      NaN        NaN            NaN United States of America   USD\\tUnited States dollar                                          Developer, front-end;Developer, desktop or enterprise applications;Developer, full-stack;Developer, back-end                                   Employed full-time                        Man           <NA>         No Linux-based                      No         Neutral            A few times per week                       Easy                                       Bachelor’s degree (B.A., B.S., B.Eng., etc.)        <NA>        11                2\n",
            "      83428 I am a developer by profession     <NA> 25-34 years old 11 - 17 years   Weekly    86000.0      4300000.0 United States of America   USD\\tUnited States dollar                                          Developer, front-end;Developer, desktop or enterprise applications;Developer, full-stack;Developer, back-end                                   Employed full-time                        Man           <NA>         No     Windows                     Yes   Yes, somewhat          Multiple times per day                       Easy                                       Bachelor’s degree (B.A., B.S., B.Eng., etc.)        <NA>        13                2\n",
            "      83429 I am a developer by profession     <NA> 25-34 years old 18 - 24 years  Monthly    15000.0        41232.0                   Brazil         BRL\\tBrazilian real                                                                                                                  Senior Executive (C-Suite, VP, etc.)                                   Employed full-time                        Man           <NA>        Yes       MacOS                     Yes   Yes, somewhat            A few times per week Neither easy nor difficult                                    Master’s degree (M.A., M.S., M.Eng., MBA, etc.)        <NA>        12                7\n",
            "      83430    I code primarily as a hobby     <NA> 25-34 years old 18 - 24 years      NaN        NaN            NaN United States of America                         NaN                                                                                                                       Other (please specify):;Student                   Not employed, but looking for work Man;Or, in your own words:           <NA>         No     Windows Not sure/can't remember   Yes, somewhat A few times per month or weekly Neither easy nor difficult                                       Bachelor’s degree (B.A., B.S., B.Eng., etc.)        <NA>         6              NaN\n",
            "      83431 I am a developer by profession     <NA> 45-54 years old 11 - 17 years   Yearly   125000.0       125000.0 United States of America   USD\\tUnited States dollar                                               Developer, front-end;Developer, full-stack;Developer, back-end;Engineering manager;System administrator                                   Employed full-time                        Man           <NA>         No Linux-based                      No  No, not really            A few times per week                       Easy                                    Master’s degree (M.A., M.S., M.Eng., MBA, etc.)        <NA>        23               21\n",
            "      83432 I am a developer by profession     <NA> 18-24 years old 11 - 17 years  Monthly   150000.0        11676.0                 Pakistan        PKR\\tPakistani rupee Developer, mobile;Developer, desktop or enterprise applications;Data scientist or machine learning specialist;Developer, back-end;Engineering manager Independent contractor, freelancer, or self-employed                        Man           <NA>         No     Windows                     Yes Yes, definitely          Multiple times per day                       Easy                                       Bachelor’s degree (B.A., B.S., B.Eng., etc.)        <NA>         9                4\n",
            "      83433 I am a developer by profession     <NA> 18-24 years old 18 - 24 years   Yearly   106000.0        80169.0                   Canada        CAD\\tCanadian dollar                                                                                                                                   Developer, back-end                                   Employed full-time                      Woman           <NA>         No       MacOS                      No  No, not really           Daily or almost daily                       Easy                                       Bachelor’s degree (B.A., B.S., B.Eng., etc.)        <NA>         5 Less than 1 year\n",
            "      83434 I am a developer by profession     <NA> 25-34 years old 18 - 24 years   Yearly    80000.0        18326.0                   Brazil         BRL\\tBrazilian real                                                                                          Developer, mobile;Developer, front-end;Developer, QA or test Independent contractor, freelancer, or self-employed                        Man           <NA>         No       MacOS                     Yes   Yes, somewhat           Daily or almost daily                       Easy                                       Bachelor’s degree (B.A., B.S., B.Eng., etc.)        <NA>        15               11\n",
            "      83435 I am a developer by profession     <NA> 25-34 years old 11 - 17 years   Yearly   160500.0       160500.0 United States of America   USD\\tUnited States dollar                                                                                                                                   Developer, back-end                                   Employed full-time                        Man           <NA>         No       MacOS                      No  No, not at all            A few times per week                       Easy                                       Bachelor’s degree (B.A., B.S., B.Eng., etc.)        <NA>         6                5\n",
            "      83436 I am a developer by profession     <NA> 18-24 years old 11 - 17 years  Monthly   200000.0         3960.0                    Benin XOF\\tWest African CFA franc                                                                                                                                 Developer, full-stack Independent contractor, freelancer, or self-employed                        Man           <NA>         No Linux-based                     Yes   Yes, somewhat          Multiple times per day                       Easy                                       Bachelor’s degree (B.A., B.S., B.Eng., etc.)        <NA>         4                2\n",
            "      83437 I am a developer by profession     <NA> 25-34 years old 11 - 17 years   Weekly     1800.0        90000.0 United States of America   USD\\tUnited States dollar                                                                                       Data scientist or machine learning specialist;DevOps specialist                                   Employed full-time                        Man           <NA>         No     Windows                     Yes  No, not really            A few times per week Neither easy nor difficult Secondary school (e.g. American high school, German Realschule or Gymnasium, etc.)        <NA>        10                4\n",
            "      83438 I am a developer by profession     <NA> 25-34 years old 11 - 17 years  Monthly    90000.0       816816.0                   Canada        CAD\\tCanadian dollar                                                                                                                                   Developer, back-end                                   Employed full-time                        Man           <NA>         No       MacOS                     Yes  No, not really A few times per month or weekly Neither easy nor difficult                                       Bachelor’s degree (B.A., B.S., B.Eng., etc.)        <NA>         5                3\n",
            "      83439 I am a developer by profession     <NA> 18-24 years old 11 - 17 years  Monthly     7700.0        21168.0                   Brazil         BRL\\tBrazilian real                                                                                        Developer, front-end;Developer, full-stack;Developer, back-end                                   Employed full-time                        Man           <NA>         No Linux-based                     Yes   Yes, somewhat            A few times per week                       Easy                                                 Professional degree (JD, MD, etc.)        <NA>        14                4\n",
            "\n"
          ]
        }
      ]
    },
    {
      "cell_type": "code",
      "source": [
        "\n",
        "# --------------------------\n",
        "# Q3) Info and datatype conversions (run as a cell)\n",
        "# --------------------------\n",
        "print(\"Q3) Dataframe info BEFORE conversions:\")\n",
        "df.info()\n",
        "print()\n",
        "\n",
        "# Convert YearsCode & YearsCodePro\n",
        "df[\"YearsCode_num\"] = convert_years_column(df[\"YearsCode\"])\n",
        "df[\"YearsCodePro_num\"] = convert_years_column(df[\"YearsCodePro\"])\n",
        "\n",
        "# Convert Age and Age1stCode\n",
        "df[\"Age_num\"] = pd.to_numeric(df[\"Age\"], errors=\"coerce\")\n",
        "df[\"Age1stCode_num\"] = pd.to_numeric(df[\"Age1stCode\"], errors=\"coerce\")\n",
        "\n",
        "# WorkWeekHrs numeric\n",
        "df[\"WorkWeekHrs_num\"] = pd.to_numeric(df[\"WorkWeekHrs\"], errors=\"coerce\")\n",
        "\n",
        "# ConvertedComp and CompTotal numeric (may be absent; safe coercion)\n",
        "df[\"ConvertedComp_num\"] = pd.to_numeric(df.get(\"ConvertedComp\"), errors=\"coerce\")\n",
        "df[\"CompTotal_num\"] = pd.to_numeric(df.get(\"CompTotal\"), errors=\"coerce\")\n",
        "\n",
        "# UndergradMajor -> string (if column exists)\n",
        "try:\n",
        "    df[\"UndergradMajor\"] = df[\"UndergradMajor\"].astype(\"string\")\n",
        "except Exception:\n",
        "    pass\n",
        "\n",
        "# Replace originals with converted variants where appropriate (nullable Int64 for integer-like)\n",
        "df[\"YearsCode\"] = df[\"YearsCode_num\"].astype(\"Int64\")\n",
        "df[\"YearsCodePro\"] = df[\"YearsCodePro_num\"].astype(\"Int64\")\n",
        "df[\"Age\"] = df[\"Age_num\"].astype(\"Int64\")\n",
        "df[\"Age1stCode\"] = df[\"Age1stCode_num\"].astype(\"Int64\")\n",
        "df[\"WorkWeekHrs\"] = df[\"WorkWeekHrs_num\"]  # keep float for mean/binning\n",
        "\n",
        "print(\"Q3) Dataframe info AFTER conversions (selected cols):\")\n",
        "selected_cols = [\"Respondent\", \"Age\", \"Age1stCode\", \"YearsCode\", \"YearsCodePro\", \"WorkWeekHrs\", \"UndergradMajor\"]\n",
        "df[selected_cols].info()\n",
        "print()\n",
        "\n"
      ],
      "metadata": {
        "colab": {
          "base_uri": "https://localhost:8080/"
        },
        "id": "JyYH6Un6KE8J",
        "outputId": "7ca1a617-3501-4af5-8b0c-4470bc27466c"
      },
      "execution_count": null,
      "outputs": [
        {
          "output_type": "stream",
          "name": "stdout",
          "text": [
            "Q3) Dataframe info BEFORE conversions:\n",
            "<class 'pandas.core.frame.DataFrame'>\n",
            "RangeIndex: 83439 entries, 0 to 83438\n",
            "Data columns (total 24 columns):\n",
            " #   Column          Non-Null Count  Dtype  \n",
            "---  ------          --------------  -----  \n",
            " 0   Respondent      83439 non-null  int64  \n",
            " 1   MainBranch      83439 non-null  object \n",
            " 2   Hobbyist        0 non-null      object \n",
            " 3   Age             82407 non-null  object \n",
            " 4   Age1stCode      83243 non-null  object \n",
            " 5   CompFreq        52150 non-null  object \n",
            " 6   CompTotal       47183 non-null  float64\n",
            " 7   ConvertedComp   46844 non-null  float64\n",
            " 8   Country         83439 non-null  object \n",
            " 9   CurrencySymbol  61080 non-null  object \n",
            " 10  DevType         66484 non-null  object \n",
            " 11  Employment      83323 non-null  object \n",
            " 12  Gender          82286 non-null  object \n",
            " 13  DevOpsPresence  0 non-null      object \n",
            " 14  OtherComms      82828 non-null  object \n",
            " 15  OS              83294 non-null  object \n",
            " 16  SOAccount       82525 non-null  object \n",
            " 17  SOComm          82319 non-null  object \n",
            " 18  SOVisitFreq     82413 non-null  object \n",
            " 19  SurveyEase      81948 non-null  object \n",
            " 20  UndergradMajor  83126 non-null  object \n",
            " 21  WorkWeekHrs     0 non-null      object \n",
            " 22  YearsCode       81641 non-null  object \n",
            " 23  YearsCodePro    61216 non-null  object \n",
            "dtypes: float64(2), int64(1), object(21)\n",
            "memory usage: 15.3+ MB\n",
            "\n",
            "Q3) Dataframe info AFTER conversions (selected cols):\n",
            "<class 'pandas.core.frame.DataFrame'>\n",
            "RangeIndex: 83439 entries, 0 to 83438\n",
            "Data columns (total 7 columns):\n",
            " #   Column          Non-Null Count  Dtype  \n",
            "---  ------          --------------  -----  \n",
            " 0   Respondent      83439 non-null  int64  \n",
            " 1   Age             0 non-null      Int64  \n",
            " 2   Age1stCode      0 non-null      Int64  \n",
            " 3   YearsCode       79982 non-null  Int64  \n",
            " 4   YearsCodePro    58467 non-null  Int64  \n",
            " 5   WorkWeekHrs     0 non-null      float64\n",
            " 6   UndergradMajor  83126 non-null  string \n",
            "dtypes: Int64(4), float64(1), int64(1), string(1)\n",
            "memory usage: 4.8 MB\n",
            "\n"
          ]
        }
      ]
    },
    {
      "cell_type": "code",
      "source": [
        "\n",
        "# --------------------------\n",
        "# Q4) Statistical summary (run as a cell)\n",
        "# --------------------------\n",
        "print(\"Q4) Statistical summary (numeric columns):\")\n",
        "print(df.describe(include=[np.number]).transpose())\n",
        "print()\n",
        "print(\"Q4) Statistical summary (all columns - top-level):\")\n",
        "print(df.describe(include=\"all\").transpose())\n",
        "print()\n",
        "\n"
      ],
      "metadata": {
        "colab": {
          "base_uri": "https://localhost:8080/"
        },
        "id": "VpA9A9OEKHg9",
        "outputId": "38d1bdbd-dc16-40fa-89fe-db4b71c12783"
      },
      "execution_count": null,
      "outputs": [
        {
          "output_type": "stream",
          "name": "stdout",
          "text": [
            "Q4) Statistical summary (numeric columns):\n",
            "                     count                                               mean                                                std   min      25%      50%       75%  \\\n",
            "Respondent         83439.0                                            41720.0                                       24086.908893   1.0  20860.5  41720.0   62579.5   \n",
            "Age                    0.0                                               <NA>                                               <NA>  <NA>     <NA>     <NA>      <NA>   \n",
            "Age1stCode             0.0                                               <NA>                                               <NA>  <NA>     <NA>     <NA>      <NA>   \n",
            "CompTotal          47183.0  2119407413687132817635889661838587375426541967...  4603702220695901578528518785516705557678259480...   0.0  16000.0  67000.0  140000.0   \n",
            "ConvertedComp      46844.0                                       118426.15289                                       527294.35529   1.0  27025.0  56211.0  100000.0   \n",
            "WorkWeekHrs            0.0                                                NaN                                                NaN   NaN      NaN      NaN       NaN   \n",
            "YearsCode          79982.0                                          12.485722                                           9.626184   1.0      5.0     10.0      17.0   \n",
            "YearsCodePro       58467.0                                           9.572511                                           8.123225   1.0      4.0      7.0      13.0   \n",
            "YearsCode_num      79982.0                                          12.485722                                           9.626184   1.0      5.0     10.0      17.0   \n",
            "YearsCodePro_num   58467.0                                           9.572511                                           8.123225   1.0      4.0      7.0      13.0   \n",
            "Age_num                0.0                                                NaN                                                NaN   NaN      NaN      NaN       NaN   \n",
            "Age1stCode_num         0.0                                                NaN                                                NaN   NaN      NaN      NaN       NaN   \n",
            "WorkWeekHrs_num        0.0                                                NaN                                                NaN   NaN      NaN      NaN       NaN   \n",
            "ConvertedComp_num  46844.0                                       118426.15289                                       527294.35529   1.0  27025.0  56211.0  100000.0   \n",
            "CompTotal_num      47183.0  2119407413687132817635889661838587375426541967...  4603702220695901578528518785516705557678259480...   0.0  16000.0  67000.0  140000.0   \n",
            "\n",
            "                                                                 max  \n",
            "Respondent                                                   83439.0  \n",
            "Age                                                             <NA>  \n",
            "Age1stCode                                                      <NA>  \n",
            "CompTotal          9999999999999999516481881180279219788519609080...  \n",
            "ConvertedComp                                             45241312.0  \n",
            "WorkWeekHrs                                                      NaN  \n",
            "YearsCode                                                       50.0  \n",
            "YearsCodePro                                                    50.0  \n",
            "YearsCode_num                                                   50.0  \n",
            "YearsCodePro_num                                                50.0  \n",
            "Age_num                                                          NaN  \n",
            "Age1stCode_num                                                   NaN  \n",
            "WorkWeekHrs_num                                                  NaN  \n",
            "ConvertedComp_num                                         45241312.0  \n",
            "CompTotal_num      9999999999999999516481881180279219788519609080...  \n",
            "\n",
            "Q4) Statistical summary (all columns - top-level):\n",
            "                     count unique                                           top   freq                                               mean                                                std   min  \\\n",
            "Respondent         83439.0    NaN                                           NaN    NaN                                            41720.0                                       24086.908893   1.0   \n",
            "MainBranch           83439      6                I am a developer by profession  58153                                                NaN                                                NaN   NaN   \n",
            "Hobbyist                 0      0                                           NaN    NaN                                                NaN                                                NaN   NaN   \n",
            "Age                    0.0   <NA>                                          <NA>   <NA>                                               <NA>                                               <NA>  <NA>   \n",
            "Age1stCode             0.0   <NA>                                          <NA>   <NA>                                               <NA>                                               <NA>  <NA>   \n",
            "CompFreq             52150      3                                        Yearly  25767                                                NaN                                                NaN   NaN   \n",
            "CompTotal          47183.0    NaN                                           NaN    NaN  2119407413687132817635889661838587375426541967...  4603702220695901578528518785516705557678259480...   0.0   \n",
            "ConvertedComp      46844.0    NaN                                           NaN    NaN                                       118426.15289                                       527294.35529   1.0   \n",
            "Country              83439    181                      United States of America  15288                                                NaN                                                NaN   NaN   \n",
            "CurrencySymbol       61080    146                     USD\\tUnited States dollar  14363                                                NaN                                                NaN   NaN   \n",
            "DevType              66484   8626                         Developer, full-stack   8601                                                NaN                                                NaN   NaN   \n",
            "Employment           83323      9                            Employed full-time  53584                                                NaN                                                NaN   NaN   \n",
            "Gender               82286     16                                           Man  74817                                                NaN                                                NaN   NaN   \n",
            "DevOpsPresence           0      0                                           NaN    NaN                                                NaN                                                NaN   NaN   \n",
            "OtherComms           82828      2                                            No  53364                                                NaN                                                NaN   NaN   \n",
            "OS                   83294      6                                       Windows  37758                                                NaN                                                NaN   NaN   \n",
            "SOAccount            82525      3                                           Yes  67813                                                NaN                                                NaN   NaN   \n",
            "SOComm               82319      6                                 Yes, somewhat  23584                                                NaN                                                NaN   NaN   \n",
            "SOVisitFreq          82413      5                         Daily or almost daily  25262                                                NaN                                                NaN   NaN   \n",
            "SurveyEase           81948      3                                          Easy  63087                                                NaN                                                NaN   NaN   \n",
            "UndergradMajor       83126      9  Bachelor’s degree (B.A., B.S., B.Eng., etc.)  35357                                                NaN                                                NaN   NaN   \n",
            "WorkWeekHrs            0.0    NaN                                           NaN    NaN                                                NaN                                                NaN   NaN   \n",
            "YearsCode          79982.0   <NA>                                          <NA>   <NA>                                          12.485722                                           9.626184   1.0   \n",
            "YearsCodePro       58467.0   <NA>                                          <NA>   <NA>                                           9.572511                                           8.123225   1.0   \n",
            "YearsCode_num      79982.0    NaN                                           NaN    NaN                                          12.485722                                           9.626184   1.0   \n",
            "YearsCodePro_num   58467.0    NaN                                           NaN    NaN                                           9.572511                                           8.123225   1.0   \n",
            "Age_num                0.0    NaN                                           NaN    NaN                                                NaN                                                NaN   NaN   \n",
            "Age1stCode_num         0.0    NaN                                           NaN    NaN                                                NaN                                                NaN   NaN   \n",
            "WorkWeekHrs_num        0.0    NaN                                           NaN    NaN                                                NaN                                                NaN   NaN   \n",
            "ConvertedComp_num  46844.0    NaN                                           NaN    NaN                                       118426.15289                                       527294.35529   1.0   \n",
            "CompTotal_num      47183.0    NaN                                           NaN    NaN  2119407413687132817635889661838587375426541967...  4603702220695901578528518785516705557678259480...   0.0   \n",
            "\n",
            "                       25%      50%       75%                                                max  \n",
            "Respondent         20860.5  41720.0   62579.5                                            83439.0  \n",
            "MainBranch             NaN      NaN       NaN                                                NaN  \n",
            "Hobbyist               NaN      NaN       NaN                                                NaN  \n",
            "Age                   <NA>     <NA>      <NA>                                               <NA>  \n",
            "Age1stCode            <NA>     <NA>      <NA>                                               <NA>  \n",
            "CompFreq               NaN      NaN       NaN                                                NaN  \n",
            "CompTotal          16000.0  67000.0  140000.0  9999999999999999516481881180279219788519609080...  \n",
            "ConvertedComp      27025.0  56211.0  100000.0                                         45241312.0  \n",
            "Country                NaN      NaN       NaN                                                NaN  \n",
            "CurrencySymbol         NaN      NaN       NaN                                                NaN  \n",
            "DevType                NaN      NaN       NaN                                                NaN  \n",
            "Employment             NaN      NaN       NaN                                                NaN  \n",
            "Gender                 NaN      NaN       NaN                                                NaN  \n",
            "DevOpsPresence         NaN      NaN       NaN                                                NaN  \n",
            "OtherComms             NaN      NaN       NaN                                                NaN  \n",
            "OS                     NaN      NaN       NaN                                                NaN  \n",
            "SOAccount              NaN      NaN       NaN                                                NaN  \n",
            "SOComm                 NaN      NaN       NaN                                                NaN  \n",
            "SOVisitFreq            NaN      NaN       NaN                                                NaN  \n",
            "SurveyEase             NaN      NaN       NaN                                                NaN  \n",
            "UndergradMajor         NaN      NaN       NaN                                                NaN  \n",
            "WorkWeekHrs            NaN      NaN       NaN                                                NaN  \n",
            "YearsCode              5.0     10.0      17.0                                               50.0  \n",
            "YearsCodePro           4.0      7.0      13.0                                               50.0  \n",
            "YearsCode_num          5.0     10.0      17.0                                               50.0  \n",
            "YearsCodePro_num       4.0      7.0      13.0                                               50.0  \n",
            "Age_num                NaN      NaN       NaN                                                NaN  \n",
            "Age1stCode_num         NaN      NaN       NaN                                                NaN  \n",
            "WorkWeekHrs_num        NaN      NaN       NaN                                                NaN  \n",
            "ConvertedComp_num  27025.0  56211.0  100000.0                                         45241312.0  \n",
            "CompTotal_num      16000.0  67000.0  140000.0  9999999999999999516481881180279219788519609080...  \n",
            "\n"
          ]
        }
      ]
    },
    {
      "cell_type": "code",
      "source": [
        "\n",
        "# --------------------------\n",
        "# Q5) Missing counts (run as a cell)\n",
        "# --------------------------\n",
        "print(\"Q5) Missing value counts:\")\n",
        "for c in [\"Age\", \"Country\", \"UndergradMajor\"]:\n",
        "    cnt = int(df[c].isna().sum()) if c in df.columns else \"column_missing\"\n",
        "    print(f\"  {c}: {cnt}\")\n",
        "print()\n",
        "\n"
      ],
      "metadata": {
        "colab": {
          "base_uri": "https://localhost:8080/"
        },
        "id": "N7PRRC3kKJxY",
        "outputId": "34772c33-bd1c-465f-ab28-f1d23d831b99"
      },
      "execution_count": null,
      "outputs": [
        {
          "output_type": "stream",
          "name": "stdout",
          "text": [
            "Q5) Missing value counts:\n",
            "  Age: 83439\n",
            "  Country: 0\n",
            "  UndergradMajor: 313\n",
            "\n"
          ]
        }
      ]
    },
    {
      "cell_type": "code",
      "source": [
        "\n",
        "# --------------------------\n",
        "# Q6) Missing-data handling (run as a cell)\n",
        "# --------------------------\n",
        "print(\"Q6a) Replace missing WorkWeekHrs by mean (if available)\")\n",
        "if df[\"WorkWeekHrs\"].dropna().empty:\n",
        "    work_mean = float(\"nan\")\n",
        "    print(\"  No non-missing WorkWeekHrs values found; filled values will be NaN.\")\n",
        "else:\n",
        "    work_mean = float(df[\"WorkWeekHrs\"].dropna().astype(float).mean())\n",
        "    print(f\"  Mean WorkWeekHrs = {work_mean:.4f}\")\n",
        "df[\"WorkWeekHrs_filled\"] = df[\"WorkWeekHrs\"].astype(float).fillna(work_mean)\n",
        "\n",
        "print(\"Q6b) Replace missing SurveyEase by mode (frequency)\")\n",
        "if \"SurveyEase\" in df.columns and df[\"SurveyEase\"].dropna().shape[0] > 0:\n",
        "    survey_mode = df[\"SurveyEase\"].mode(dropna=True).iloc[0]\n",
        "    print(f\"  SurveyEase mode = {survey_mode!r}\")\n",
        "else:\n",
        "    survey_mode = pd.NA\n",
        "    print(\"  SurveyEase column missing or entirely NaN; mode set to NA.\")\n",
        "df[\"SurveyEase_filled\"] = df[\"SurveyEase\"].fillna(survey_mode)\n",
        "\n",
        "print(\"Q6c) Binning WorkWeekHrs into Low / Normal / High\")\n",
        "bins = [-np.inf, 29.9999, 45.0, np.inf]\n",
        "labels = [\"Low\", \"Normal\", \"High\"]\n",
        "if \"WorkWeekHrs_filled\" in df.columns:\n",
        "    df[\"WorkWeekHrs_bin\"] = pd.cut(df[\"WorkWeekHrs_filled\"], bins=bins, labels=labels)\n",
        "    print(df[\"WorkWeekHrs_bin\"].value_counts(dropna=False).to_string())\n",
        "else:\n",
        "    df[\"WorkWeekHrs_bin\"] = pd.NA\n",
        "    print(\"  WorkWeekHrs_filled not available; WorkWeekHrs_bin = NA\")\n",
        "print()\n"
      ],
      "metadata": {
        "colab": {
          "base_uri": "https://localhost:8080/"
        },
        "id": "h9RwZwNpKRzE",
        "outputId": "75a34a95-bc4b-42cd-9c20-97989ceb4c15"
      },
      "execution_count": null,
      "outputs": [
        {
          "output_type": "stream",
          "name": "stdout",
          "text": [
            "Q6a) Replace missing WorkWeekHrs by mean (if available)\n",
            "  No non-missing WorkWeekHrs values found; filled values will be NaN.\n",
            "Q6b) Replace missing SurveyEase by mode (frequency)\n",
            "  SurveyEase mode = 'Easy'\n",
            "Q6c) Binning WorkWeekHrs into Low / Normal / High\n",
            "WorkWeekHrs_bin\n",
            "NaN       83439\n",
            "Low           0\n",
            "Normal        0\n",
            "High          0\n",
            "\n"
          ]
        }
      ]
    },
    {
      "cell_type": "code",
      "source": [
        "\n",
        "\n",
        "# --------------------------\n",
        "# Q7) Currency standardization (run as a cell)\n",
        "# --------------------------\n",
        "print(\"Q7) Standardize ConvertedComp to INR for rows with CurrencySymbol in {USD, INR}\")\n",
        "currency_col = \"CurrencySymbol\"\n",
        "converted_col = \"ConvertedComp\"\n",
        "if currency_col not in df.columns:\n",
        "    print(\"  CurrencySymbol column missing; skipping currency standardization.\")\n",
        "    df[\"ConvertedComp_INR\"] = pd.NA\n",
        "else:\n",
        "    mask = df[currency_col].isin([\"USD\", \"INR\"])\n",
        "    df_currency = df.loc[mask, [\"Respondent\", currency_col, converted_col]].copy()\n",
        "    # try to coerce converted column from df_raw fallback if our 'ConvertedComp' is missing but df_raw had alternatives\n",
        "    if converted_col not in df.columns or df_currency[converted_col].isna().all():\n",
        "        alt = safe_pick(cols, [\"ConvertedCompYearly\", \"ConvertedCompPerYear\", \"ConvertedCompAnnual\"])\n",
        "        if alt:\n",
        "            df_currency[converted_col] = pd.to_numeric(df_raw.loc[mask, alt], errors=\"coerce\")\n",
        "    df_currency[\"ConvertedComp_num\"] = pd.to_numeric(df_currency[converted_col], errors=\"coerce\")\n",
        "    if df_currency.empty:\n",
        "        print(\"  No USD/INR rows found or converted compensation not available.\")\n",
        "        df[\"ConvertedComp_INR\"] = pd.NA\n",
        "    else:\n",
        "        RATE = 87.0\n",
        "        def to_inr(row):\n",
        "            if pd.isna(row[\"ConvertedComp_num\"]):\n",
        "                return np.nan\n",
        "            return row[\"ConvertedComp_num\"] * RATE if row[currency_col] == \"USD\" else row[\"ConvertedComp_num\"]\n",
        "        df_currency[\"ConvertedComp_INR\"] = df_currency.apply(to_inr, axis=1)\n",
        "        conv_map = df_currency.set_index(\"Respondent\")[\"ConvertedComp_INR\"].to_dict()\n",
        "        df[\"ConvertedComp_INR\"] = df[\"Respondent\"].map(conv_map)\n",
        "        print(\"  Sample converted values (first 10):\")\n",
        "        print(df_currency.head(10).to_string(index=False))\n",
        "print()\n",
        "\n"
      ],
      "metadata": {
        "colab": {
          "base_uri": "https://localhost:8080/"
        },
        "id": "Qo6kqZNVKPWk",
        "outputId": "bb89b354-072c-4b8d-bd28-c182f93e7b83"
      },
      "execution_count": null,
      "outputs": [
        {
          "output_type": "stream",
          "name": "stdout",
          "text": [
            "Q7) Standardize ConvertedComp to INR for rows with CurrencySymbol in {USD, INR}\n",
            "  No USD/INR rows found or converted compensation not available.\n",
            "\n"
          ]
        }
      ]
    },
    {
      "cell_type": "code",
      "source": [
        "\n",
        "# --------------------------\n",
        "# Q8) Gender -> numeric (run as a cell)\n",
        "# --------------------------\n",
        "print(\"Q8) Mapping Gender categories to numeric values (missing -> 0)\")\n",
        "if \"Gender\" in df.columns and df[\"Gender\"].dropna().shape[0] > 0:\n",
        "    genders = sorted(set([str(x).strip() for x in df[\"Gender\"].dropna().unique()]))\n",
        "    gender_map = {g: i + 1 for i, g in enumerate(genders)}\n",
        "    df[\"Gender_numeric\"] = df[\"Gender\"].map(lambda x: gender_map.get(str(x).strip()) if pd.notna(x) else 0).astype(\"Int64\")\n",
        "    for k, v in gender_map.items():\n",
        "        print(f\"  '{k}' -> {v}\")\n",
        "    print(\"  Missing -> 0\")\n",
        "else:\n",
        "    print(\"  Gender column missing or empty; creating Gender_numeric filled with 0\")\n",
        "    df[\"Gender_numeric\"] = 0\n",
        "print()\n",
        "\n"
      ],
      "metadata": {
        "colab": {
          "base_uri": "https://localhost:8080/"
        },
        "id": "L5PMA10tKLxW",
        "outputId": "e987365f-3a05-4965-f884-170e03d6be50"
      },
      "execution_count": null,
      "outputs": [
        {
          "output_type": "stream",
          "name": "stdout",
          "text": [
            "Q8) Mapping Gender categories to numeric values (missing -> 0)\n",
            "  'Man' -> 1\n",
            "  'Man;Non-binary, genderqueer, or gender non-conforming' -> 2\n",
            "  'Man;Non-binary, genderqueer, or gender non-conforming;Or, in your own words:' -> 3\n",
            "  'Man;Or, in your own words:' -> 4\n",
            "  'Man;Woman' -> 5\n",
            "  'Man;Woman;Non-binary, genderqueer, or gender non-conforming' -> 6\n",
            "  'Man;Woman;Non-binary, genderqueer, or gender non-conforming;Or, in your own words:' -> 7\n",
            "  'Man;Woman;Or, in your own words:' -> 8\n",
            "  'Non-binary, genderqueer, or gender non-conforming' -> 9\n",
            "  'Non-binary, genderqueer, or gender non-conforming;Or, in your own words:' -> 10\n",
            "  'Or, in your own words:' -> 11\n",
            "  'Prefer not to say' -> 12\n",
            "  'Woman' -> 13\n",
            "  'Woman;Non-binary, genderqueer, or gender non-conforming' -> 14\n",
            "  'Woman;Non-binary, genderqueer, or gender non-conforming;Or, in your own words:' -> 15\n",
            "  'Woman;Or, in your own words:' -> 16\n",
            "  Missing -> 0\n",
            "\n"
          ]
        }
      ]
    },
    {
      "cell_type": "code",
      "source": [
        "\n",
        "# --------------------------\n",
        "# Q9) Top 10 countries by YearsCode (run as a cell)\n",
        "# --------------------------\n",
        "print(\"Q9) Top 10 countries by average coding experience (YearsCode):\")\n",
        "df[\"YearsCode_for_avg\"] = pd.to_numeric(df[\"YearsCode\"], errors=\"coerce\")\n",
        "country_avg = df.groupby(\"Country\", dropna=True)[\"YearsCode_for_avg\"].agg([\"count\", \"mean\"]).reset_index()\n",
        "country_avg = country_avg[country_avg[\"mean\"].notna()]\n",
        "if country_avg.empty:\n",
        "    print(\"  No country-wise YearsCode data available.\")\n",
        "else:\n",
        "    top10 = country_avg.sort_values(\"mean\", ascending=False).head(10)\n",
        "    for idx, row in top10.iterrows():\n",
        "        print(f\"  {row['Country']}: Respondents={int(row['count'])}, AvgYearsCode={row['mean']:.2f}\")\n",
        "print()\n"
      ],
      "metadata": {
        "colab": {
          "base_uri": "https://localhost:8080/"
        },
        "id": "SlRbojdbKOEt",
        "outputId": "6d2a85b8-3db9-48a4-bed6-e6f212c4cde4"
      },
      "execution_count": null,
      "outputs": [
        {
          "output_type": "stream",
          "name": "stdout",
          "text": [
            "Q9) Top 10 countries by average coding experience (YearsCode):\n",
            "  San Marino: Respondents=2, AvgYearsCode=28.50\n",
            "  Luxembourg: Respondents=47, AvgYearsCode=17.17\n",
            "  Australia: Respondents=1600, AvgYearsCode=16.38\n",
            "  United Kingdom of Great Britain and Northern Ireland: Respondents=4377, AvgYearsCode=16.34\n",
            "  New Zealand: Respondents=508, AvgYearsCode=16.32\n",
            "  United States of America: Respondents=14806, AvgYearsCode=15.71\n",
            "  Nomadic: Respondents=44, AvgYearsCode=15.70\n",
            "  Sweden: Respondents=1171, AvgYearsCode=15.63\n",
            "  Denmark: Respondents=583, AvgYearsCode=15.54\n",
            "  Ireland: Respondents=379, AvgYearsCode=15.51\n",
            "\n"
          ]
        }
      ]
    },
    {
      "cell_type": "code",
      "source": [
        "\n",
        "\n",
        "# --------------------------\n",
        "# Q10) DevType split & counts (run as a cell)\n",
        "# --------------------------\n",
        "print(\"Q10) Counting respondents per DevType role (DevType entries split by ';'):\")\n",
        "if \"DevType\" in df.columns and df[\"DevType\"].dropna().shape[0] > 0:\n",
        "    dev_roles = df[\"DevType\"].dropna().astype(str).str.split(\";\").explode().str.strip()\n",
        "    role_counts = dev_roles.value_counts()\n",
        "    for role, cnt in role_counts.items():\n",
        "        print(f\"  {role}: {cnt}\")\n",
        "else:\n",
        "    print(\"  DevType column missing or empty; cannot compute role counts.\")\n",
        "print()\n",
        "\n",
        "\n",
        "# --------------------------\n",
        "# End - optionally save processed outputs (uncomment to save)\n",
        "# --------------------------\n",
        "# df.to_csv(\"/mnt/data/survey_processed_lab2_no_main.csv\", index=False)\n",
        "# if 'role_counts' in locals() and not role_counts.empty:\n",
        "#     pd.DataFrame({'DevType': role_counts.index, 'Count': role_counts.values}).to_csv(\"/mnt/data/devtype_role_counts_no_main.csv\", index=False)\n",
        "\n",
        "print(\"All steps attempted. Where columns were missing, placeholders (pd.NA) were used and processing continued.\")\n"
      ],
      "metadata": {
        "colab": {
          "base_uri": "https://localhost:8080/"
        },
        "id": "2VSBTHdVKM82",
        "outputId": "be72bc63-2991-44a1-cc2b-2981120ffe2d"
      },
      "execution_count": null,
      "outputs": [
        {
          "output_type": "stream",
          "name": "stdout",
          "text": [
            "Q10) Counting respondents per DevType role (DevType entries split by ';'):\n",
            "  Developer, full-stack: 32891\n",
            "  Developer, back-end: 29071\n",
            "  Developer, front-end: 18231\n",
            "  Developer, desktop or enterprise applications: 11036\n",
            "  Developer, mobile: 9800\n",
            "  DevOps specialist: 7058\n",
            "  System administrator: 6079\n",
            "  Database administrator: 5655\n",
            "  Designer: 4611\n",
            "  Developer, embedded applications or devices: 4598\n",
            "  Data scientist or machine learning specialist: 4273\n",
            "  Student: 4187\n",
            "  Engineer, data: 4176\n",
            "  Engineering manager: 3810\n",
            "  Data or business analyst: 3792\n",
            "  Developer, QA or test: 3611\n",
            "  Other (please specify):: 3545\n",
            "  Product manager: 3074\n",
            "  Academic researcher: 2899\n",
            "  Engineer, site reliability: 2448\n",
            "  Educator: 2369\n",
            "  Developer, game or graphics: 2112\n",
            "  Senior Executive (C-Suite, VP, etc.): 2103\n",
            "  Scientist: 2015\n",
            "  Marketing or sales professional: 638\n",
            "\n",
            "All steps attempted. Where columns were missing, placeholders (pd.NA) were used and processing continued.\n"
          ]
        }
      ]
    }
  ]
}